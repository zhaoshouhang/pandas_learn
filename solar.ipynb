{
 "cells": [
  {
   "cell_type": "code",
   "execution_count": 1,
   "metadata": {},
   "outputs": [],
   "source": [
    "from pvlib import solarposition\n",
    "import pandas as pd"
   ]
  },
  {
   "cell_type": "code",
   "execution_count": 36,
   "metadata": {},
   "outputs": [
    {
     "data": {
      "text/html": [
       "<div>\n",
       "<style scoped>\n",
       "    .dataframe tbody tr th:only-of-type {\n",
       "        vertical-align: middle;\n",
       "    }\n",
       "\n",
       "    .dataframe tbody tr th {\n",
       "        vertical-align: top;\n",
       "    }\n",
       "\n",
       "    .dataframe thead th {\n",
       "        text-align: right;\n",
       "    }\n",
       "</style>\n",
       "<table border=\"1\" class=\"dataframe\">\n",
       "  <thead>\n",
       "    <tr style=\"text-align: right;\">\n",
       "      <th></th>\n",
       "      <th>apparent_zenith</th>\n",
       "      <th>zenith</th>\n",
       "      <th>apparent_elevation</th>\n",
       "      <th>elevation</th>\n",
       "      <th>azimuth</th>\n",
       "      <th>equation_of_time</th>\n",
       "    </tr>\n",
       "  </thead>\n",
       "  <tbody>\n",
       "    <tr>\n",
       "      <th>2023-07-28 11:00:00+08:00</th>\n",
       "      <td>24.448219</td>\n",
       "      <td>24.455869</td>\n",
       "      <td>65.551781</td>\n",
       "      <td>65.544131</td>\n",
       "      <td>129.879892</td>\n",
       "      <td>-6.555712</td>\n",
       "    </tr>\n",
       "  </tbody>\n",
       "</table>\n",
       "</div>"
      ],
      "text/plain": [
       "                           apparent_zenith     zenith  apparent_elevation  \\\n",
       "2023-07-28 11:00:00+08:00        24.448219  24.455869           65.551781   \n",
       "\n",
       "                           elevation     azimuth  equation_of_time  \n",
       "2023-07-28 11:00:00+08:00  65.544131  129.879892         -6.555712  "
      ]
     },
     "execution_count": 36,
     "metadata": {},
     "output_type": "execute_result"
    }
   ],
   "source": [
    "#时区的影响\n",
    "# tz = 'Asia/Shanghai'\n",
    "lat, lon = 36.4, 117.0\n",
    "times = pd.date_range('2023-07-28 11:00:00+08:00', '2023-07-28 11:00:00+08:00', freq='30min')\n",
    "solpos = solarposition.get_solarposition(times, lat, lon)\n",
    "solpos"
   ]
  },
  {
   "cell_type": "code",
   "execution_count": 40,
   "metadata": {},
   "outputs": [
    {
     "data": {
      "text/html": [
       "<div>\n",
       "<style scoped>\n",
       "    .dataframe tbody tr th:only-of-type {\n",
       "        vertical-align: middle;\n",
       "    }\n",
       "\n",
       "    .dataframe tbody tr th {\n",
       "        vertical-align: top;\n",
       "    }\n",
       "\n",
       "    .dataframe thead th {\n",
       "        text-align: right;\n",
       "    }\n",
       "</style>\n",
       "<table border=\"1\" class=\"dataframe\">\n",
       "  <thead>\n",
       "    <tr style=\"text-align: right;\">\n",
       "      <th></th>\n",
       "      <th>apparent_zenith</th>\n",
       "      <th>zenith</th>\n",
       "      <th>apparent_elevation</th>\n",
       "      <th>elevation</th>\n",
       "      <th>azimuth</th>\n",
       "      <th>equation_of_time</th>\n",
       "    </tr>\n",
       "  </thead>\n",
       "  <tbody>\n",
       "    <tr>\n",
       "      <th>2023-07-27 23:00:00-04:00</th>\n",
       "      <td>24.448219</td>\n",
       "      <td>24.455869</td>\n",
       "      <td>65.551781</td>\n",
       "      <td>65.544131</td>\n",
       "      <td>129.879892</td>\n",
       "      <td>-6.555712</td>\n",
       "    </tr>\n",
       "  </tbody>\n",
       "</table>\n",
       "</div>"
      ],
      "text/plain": [
       "                           apparent_zenith     zenith  apparent_elevation  \\\n",
       "2023-07-27 23:00:00-04:00        24.448219  24.455869           65.551781   \n",
       "\n",
       "                           elevation     azimuth  equation_of_time  \n",
       "2023-07-27 23:00:00-04:00  65.544131  129.879892         -6.555712  "
      ]
     },
     "execution_count": 40,
     "metadata": {},
     "output_type": "execute_result"
    }
   ],
   "source": [
    "#时区的影响\n",
    "# tz = 'Asia/Shanghai'\n",
    "lat, lon = 36.4, 117.0\n",
    "times1 = pd.date_range('2023-07-27 23:00:00-04:00', '2023-07-27 23:00:00-04:00', freq='30min')\n",
    "solpos1 = solarposition.get_solarposition(times1, lat, lon)\n",
    "solpos1\n"
   ]
  }
 ],
 "metadata": {
  "kernelspec": {
   "display_name": "pandas_learn-CtSP9vuw",
   "language": "python",
   "name": "python3"
  },
  "language_info": {
   "codemirror_mode": {
    "name": "ipython",
    "version": 3
   },
   "file_extension": ".py",
   "mimetype": "text/x-python",
   "name": "python",
   "nbconvert_exporter": "python",
   "pygments_lexer": "ipython3",
   "version": "3.11.4"
  },
  "orig_nbformat": 4
 },
 "nbformat": 4,
 "nbformat_minor": 2
}
